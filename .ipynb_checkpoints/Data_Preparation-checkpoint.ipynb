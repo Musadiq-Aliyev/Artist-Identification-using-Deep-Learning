{
 "cells": [
  {
   "cell_type": "code",
   "execution_count": 1,
   "id": "6840daa4-3fd8-400d-bdf4-a0b9325457c5",
   "metadata": {},
   "outputs": [
    {
     "name": "stdout",
     "output_type": "stream",
     "text": [
      "Images extracted and moved to the destination folder.\n"
     ]
    }
   ],
   "source": [
    "import os\n",
    "import shutil\n",
    "\n",
    "# Source directory containing artist folders\n",
    "source_directory = \"images/images/\"\n",
    "\n",
    "# Destination directory where you want to consolidate the images\n",
    "destination_directory = \"new_images/\"\n",
    "\n",
    "# Create the destination directory if it doesn't exist\n",
    "if not os.path.exists(destination_directory):\n",
    "    os.makedirs(destination_directory)\n",
    "\n",
    "# List all folders (artists) in the source directory\n",
    "artists = [artist for artist in os.listdir(source_directory) if os.path.isdir(os.path.join(source_directory, artist))]\n",
    "\n",
    "# Loop through each artist folder\n",
    "for artist in artists:\n",
    "    # Path to the current artist's folder\n",
    "    artist_folder = os.path.join(source_directory, artist)\n",
    "    \n",
    "    # List all files in the artist's folder\n",
    "    artist_files = [f for f in os.listdir(artist_folder) if os.path.isfile(os.path.join(artist_folder, f))]\n",
    "    \n",
    "    # Loop through each file and move it to the destination directory\n",
    "    for file in artist_files:\n",
    "        # Source path of the file\n",
    "        source_path = os.path.join(artist_folder, file)\n",
    "        \n",
    "        # Destination path where the file will be moved\n",
    "        destination_path = os.path.join(destination_directory, file)\n",
    "        \n",
    "        # Move the file\n",
    "        shutil.move(source_path, destination_path)\n",
    "\n",
    "print(\"Images extracted and moved to the destination folder.\")\n"
   ]
  },
  {
   "cell_type": "code",
   "execution_count": null,
   "id": "4be9ac76-1bf9-4767-8b18-5f55da477f43",
   "metadata": {},
   "outputs": [],
   "source": []
  }
 ],
 "metadata": {
  "kernelspec": {
   "display_name": "Python 3 (ipykernel)",
   "language": "python",
   "name": "python3"
  },
  "language_info": {
   "codemirror_mode": {
    "name": "ipython",
    "version": 3
   },
   "file_extension": ".py",
   "mimetype": "text/x-python",
   "name": "python",
   "nbconvert_exporter": "python",
   "pygments_lexer": "ipython3",
   "version": "3.11.5"
  }
 },
 "nbformat": 4,
 "nbformat_minor": 5
}
