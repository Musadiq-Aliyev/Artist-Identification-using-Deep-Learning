{
 "cells": [
  {
   "cell_type": "code",
   "execution_count": null,
   "id": "4c7b73c8-f77a-4f0b-947d-5bf377320c81",
   "metadata": {
    "id": "4c7b73c8-f77a-4f0b-947d-5bf377320c81"
   },
   "outputs": [],
   "source": [
    "# Import libraries\n",
    "import pandas as pd\n",
    "import numpy as np\n",
    "import matplotlib.pyplot as plt\n",
    "import json\n",
    "import os\n",
    "from tqdm import tqdm, tqdm_notebook\n",
    "import random\n",
    "\n",
    "import tensorflow as tf\n",
    "from tensorflow.keras.models import Sequential, Model\n",
    "from tensorflow.keras.layers import *\n",
    "from tensorflow.keras.optimizers import *\n",
    "from tensorflow.keras.applications import *\n",
    "from tensorflow.keras.callbacks import *\n",
    "from tensorflow.keras.initializers import *\n",
    "from tensorflow.keras.preprocessing.image import ImageDataGenerator\n"
   ]
  },
  {
   "cell_type": "code",
   "execution_count": null,
   "id": "3c7b5b16-c646-4e50-8518-0e1da4f9f087",
   "metadata": {
    "id": "3c7b5b16-c646-4e50-8518-0e1da4f9f087"
   },
   "outputs": [],
   "source": [
    "#seeds:\n",
    "np.random.seed(123)\n",
    "tf.random.set_seed(123)"
   ]
  },
  {
   "cell_type": "code",
   "execution_count": null,
   "id": "yAxwKbXD4RfK",
   "metadata": {
    "colab": {
     "base_uri": "https://localhost:8080/"
    },
    "id": "yAxwKbXD4RfK",
    "outputId": "ea3ec40f-c902-4923-db81-968d7e5c3fa2"
   },
   "outputs": [],
   "source": [
    "!git clone https://github.com/Musadiq-Aliyev/Artist-Identification-using-Deep-Learning-MA"
   ]
  },
  {
   "cell_type": "markdown",
   "id": "174a3ad6-09a6-4530-87fd-76f3613dd2d2",
   "metadata": {
    "id": "174a3ad6-09a6-4530-87fd-76f3613dd2d2"
   },
   "source": [
    "# Data Loading"
   ]
  },
  {
   "cell_type": "code",
   "execution_count": null,
   "id": "d23e8b8f-47e1-45a8-934e-1fef659f3392",
   "metadata": {
    "colab": {
     "base_uri": "https://localhost:8080/"
    },
    "id": "d23e8b8f-47e1-45a8-934e-1fef659f3392",
    "outputId": "3dcc10ee-10a5-49ee-c0f5-62317e882c54"
   },
   "outputs": [],
   "source": [
    "artists = pd.read_csv('./Data/artists.csv', sep=\",\")\n",
    "print(\"The number of painting is {}.\".format(artists.shape[0]))"
   ]
  },
  {
   "cell_type": "code",
   "execution_count": null,
   "id": "33c80b6d-d8c1-4a50-9399-5edb69041cea",
   "metadata": {
    "colab": {
     "base_uri": "https://localhost:8080/",
     "height": 394
    },
    "id": "33c80b6d-d8c1-4a50-9399-5edb69041cea",
    "outputId": "df1a91d4-240d-4a7b-994b-d3f2e332a7e5"
   },
   "outputs": [],
   "source": [
    "# Sort artists by number of paintings\n",
    "artists = artists.sort_values(by=['paintings'], ascending=False)\n",
    "\n",
    "# Create a dataframe with artists having more than 200 paintings\n",
    "artists_top = artists[artists['paintings'] >= 200].reset_index()\n",
    "artists_top = artists_top[['name', 'paintings']]\n",
    "#artists_top['class_weight'] = max(artists_top.paintings)/artists_top.paintings\n",
    "artists_top['class_weight'] = artists_top.paintings.sum() / (artists_top.shape[0] * artists_top.paintings)\n",
    "artists_top"
   ]
  },
  {
   "cell_type": "code",
   "execution_count": null,
   "id": "186a46bd-40dd-4869-b0b4-6ef010052982",
   "metadata": {
    "colab": {
     "base_uri": "https://localhost:8080/"
    },
    "id": "186a46bd-40dd-4869-b0b4-6ef010052982",
    "outputId": "94cdc942-26c0-4035-d51a-3f471126f0bc"
   },
   "outputs": [],
   "source": [
    "# Set class weights - assign higher weights to underrepresented classes\n",
    "class_weights = artists_top['class_weight'].to_dict()\n",
    "class_weights"
   ]
  },
  {
   "cell_type": "code",
   "execution_count": null,
   "id": "6e3ce192-71d4-40cd-9383-f41395c31002",
   "metadata": {
    "id": "6e3ce192-71d4-40cd-9383-f41395c31002"
   },
   "outputs": [],
   "source": [
    "updated_name = \"Albrecht_Dürer\".replace(\"_\", \" \")\n",
    "artists_top.iloc[4, 0] = updated_name"
   ]
  },
  {
   "cell_type": "code",
   "execution_count": null,
   "id": "40918b6b-49be-454d-bfbc-61959088dd76",
   "metadata": {
    "id": "40918b6b-49be-454d-bfbc-61959088dd76"
   },
   "outputs": [],
   "source": [
    "artists_top_name = artists_top['name'].str.replace(' ', '_').values"
   ]
  },
  {
   "cell_type": "code",
   "execution_count": null,
   "id": "Yo3qLMFv0vj-",
   "metadata": {
    "colab": {
     "base_uri": "https://localhost:8080/"
    },
    "id": "Yo3qLMFv0vj-",
    "outputId": "8172acbe-c849-4c9a-88c9-72a2dae94a55"
   },
   "outputs": [],
   "source": [
    "images_dir = '/content/Artist-Identification-using-Deep-Learning-MA/Data/resized'\n",
    "artists_dirs = list(set([\" \".join(filename.split(\"_\")[:-1]) for filename in os.listdir(images_dir)])) #get all names from /resized\n",
    "n_classes = len(artists_dirs)\n",
    "print(artists_dirs)"
   ]
  },
  {
   "cell_type": "code",
   "execution_count": null,
   "id": "wJMn6lvw3q7N",
   "metadata": {
    "id": "wJMn6lvw3q7N"
   },
   "outputs": [],
   "source": [
    "images_dir = './Data/resized'\n"
   ]
  },
  {
   "cell_type": "code",
   "execution_count": null,
   "id": "7632b0b6-256a-49a1-996e-2d09f74cc879",
   "metadata": {},
   "outputs": [],
   "source": [
    "df"
   ]
  },
  {
   "cell_type": "code",
   "execution_count": null,
   "id": "0fc3ee72-2800-43dc-9069-dcf4aa872e80",
   "metadata": {
    "colab": {
     "base_uri": "https://localhost:8080/"
    },
    "id": "0fc3ee72-2800-43dc-9069-dcf4aa872e80",
    "outputId": "9f2dd793-306f-44f4-8544-cc35a7dc5d23"
   },
   "outputs": [],
   "source": [
    "# Create a DataFrame to store filename and artist mapping\n",
    "file_artist_mapping = []\n",
    "\n",
    "for filename in os.listdir(images_dir):\n",
    "    if filename.endswith(('.png', '.jpg', '.jpeg')):\n",
    "\n",
    "        artist_name = \"_\".join(filename.split(\"_\")[:-1])\n",
    "\n",
    "        if artist_name in artists_top_name:\n",
    "          artist_name = artist_name.replace('_',' ')\n",
    "          file_artist_mapping.append({'filename': filename, 'artist': artist_name})\n",
    "\n",
    "\n",
    "df = pd.DataFrame(file_artist_mapping)\n",
    "\n",
    "# Remove rows where the artist is 'Albrecht Du╠êrer'\n",
    "df = df[df['artist'] != 'Albrecht Du╠êrer']\n",
    "\n",
    "\n",
    "\n",
    "# Define image size and other parameters\n",
    "img_size = (224, 224)\n",
    "batch_size = 16\n",
    "n_classes = artists_top.shape[0]\n",
    "train_input_shape = (224, 224, 3)\n",
    "# Create data generators\n",
    "datagen = ImageDataGenerator(validation_split=0.2,\n",
    "                                   rescale=1./255.,\n",
    "                                   #rotation_range=45,\n",
    "                                   #width_shift_range=0.5,\n",
    "                                   #height_shift_range=0.5,\n",
    "                                   shear_range=5,\n",
    "                                   #zoom_range=0.7,\n",
    "                                   horizontal_flip=True,\n",
    "                                   vertical_flip=True,)\n",
    "\n",
    "train_generator = datagen.flow_from_dataframe(\n",
    "    dataframe=df,\n",
    "    directory=images_dir,\n",
    "    x_col='filename',\n",
    "    y_col='artist',\n",
    "    target_size=img_size,\n",
    "    batch_size=batch_size,\n",
    "    class_mode='categorical',\n",
    "    subset='training',\n",
    "    #classes=artists_top_name.tolist()\n",
    ")\n",
    "\n",
    "validation_generator = datagen.flow_from_dataframe(\n",
    "    dataframe=df,\n",
    "    directory=images_dir,\n",
    "    x_col='filename',\n",
    "    y_col='artist',\n",
    "    target_size=img_size,\n",
    "    batch_size=batch_size,\n",
    "    class_mode='categorical',\n",
    "    subset='validation',\n",
    "    #classes=artists_top_name.tolist()\n",
    ")\n",
    "\n",
    "STEP_SIZE_TRAIN = train_generator.n//train_generator.batch_size\n",
    "STEP_SIZE_VALID = validation_generator.n//validation_generator.batch_size\n",
    "print(\"Total number of batches =\", STEP_SIZE_TRAIN, \"and\", STEP_SIZE_VALID)"
   ]
  },
  {
   "cell_type": "code",
   "execution_count": null,
   "id": "da04365b-515f-4e7b-a03b-15392c654979",
   "metadata": {},
   "outputs": [],
   "source": [
    "# Get the width and height of the image\n",
    "width, height = image.size\n",
    "\n",
    "# Print the image shape\n",
    "print(f\"Image shape: {width} x {height}\")"
   ]
  },
  {
   "cell_type": "code",
   "execution_count": null,
   "id": "7c64bacf-6062-4224-89a1-55c2b2552128",
   "metadata": {
    "colab": {
     "base_uri": "https://localhost:8080/",
     "height": 374
    },
    "id": "7c64bacf-6062-4224-89a1-55c2b2552128",
    "outputId": "16e99cd9-465b-45d3-9930-d713f28ef769"
   },
   "outputs": [],
   "source": [
    "fig, axes = plt.subplots(1, 2, figsize=(20,10))\n",
    "\n",
    "random_artist = random.choice(artists_top_name)\n",
    "random_image = random.choice(os.listdir(os.path.join(images_dir)))\n",
    "random_image_file = os.path.join(images_dir, random_image)\n",
    "image = plt.imread(random_image_file)\n",
    "axes[0].imshow(image)\n",
    "axes[0].set_title(\"An original Image of \" + random_artist.replace('_', ' '))\n",
    "axes[0].axis('off')\n",
    "aug_image = datagen.random_transform(image)\n",
    "axes[1].imshow(aug_image)\n",
    "axes[1].set_title(\"A transformed Image of \" + random_artist.replace('_', ' '))\n",
    "axes[1].axis('off')\n",
    "\n",
    "plt.show()"
   ]
  },
  {
   "cell_type": "code",
   "execution_count": null,
   "id": "a212b4d0-1ca7-4ede-bf4a-2bba4ba0230a",
   "metadata": {
    "colab": {
     "base_uri": "https://localhost:8080/"
    },
    "id": "a212b4d0-1ca7-4ede-bf4a-2bba4ba0230a",
    "outputId": "d12c3660-bf14-476d-a356-f052ec6336cf"
   },
   "outputs": [],
   "source": [
    "# Load pre-trained model\n",
    "base_model = ResNet50(weights='imagenet', include_top=False, input_shape=train_input_shape)\n",
    "\n",
    "for layer in base_model.layers:\n",
    "    layer.trainable = True"
   ]
  },
  {
   "cell_type": "code",
   "execution_count": null,
   "id": "587b35e7-3ad4-4971-aa5c-37a7f24499da",
   "metadata": {
    "id": "587b35e7-3ad4-4971-aa5c-37a7f24499da"
   },
   "outputs": [],
   "source": [
    "# Add layers at the end\n",
    "X = base_model.output\n",
    "X = Flatten()(X)\n",
    "\n",
    "X = Dense(512, kernel_initializer='he_uniform')(X)\n",
    "#X = Dropout(0.5)(X)\n",
    "X = BatchNormalization()(X)\n",
    "X = Activation('relu')(X)\n",
    "\n",
    "X = Dense(16, kernel_initializer='he_uniform')(X)\n",
    "#X = Dropout(0.5)(X)\n",
    "X = BatchNormalization()(X)\n",
    "X = Activation('relu')(X)\n",
    "\n",
    "output = Dense(n_classes, activation='softmax')(X)\n",
    "\n",
    "model = Model(inputs=base_model.input, outputs=output)"
   ]
  },
  {
   "cell_type": "code",
   "execution_count": null,
   "id": "f8be93e7-56b0-425e-9636-f46897c79447",
   "metadata": {
    "id": "f8be93e7-56b0-425e-9636-f46897c79447"
   },
   "outputs": [],
   "source": [
    "optimizer = tf.keras.optimizers.legacy.Adam(learning_rate=0.0001)\n",
    "model.compile(loss='categorical_crossentropy',\n",
    "              optimizer=optimizer,\n",
    "              metrics=['accuracy'])"
   ]
  },
  {
   "cell_type": "code",
   "execution_count": null,
   "id": "0ae38089-1c2e-4a31-b02e-b4211fb71d52",
   "metadata": {
    "id": "0ae38089-1c2e-4a31-b02e-b4211fb71d52"
   },
   "outputs": [],
   "source": [
    "n_epoch = 10\n",
    "\n",
    "early_stop = EarlyStopping(monitor='val_loss', patience=20, verbose=1,\n",
    "                           mode='auto', restore_best_weights=True)\n",
    "\n",
    "reduce_lr = ReduceLROnPlateau(monitor='val_loss', factor=0.1, patience=5,\n",
    "                              verbose=1, mode='auto')"
   ]
  },
  {
   "cell_type": "code",
   "execution_count": null,
   "id": "4ed7b166-6364-435f-9cd5-699525950a69",
   "metadata": {
    "colab": {
     "base_uri": "https://localhost:8080/"
    },
    "id": "4ed7b166-6364-435f-9cd5-699525950a69",
    "outputId": "982f84bb-2fe9-40e9-8fc0-b0d00b6af0c0"
   },
   "outputs": [],
   "source": [
    "# Train the model - all layers\n",
    "history1 = model.fit_generator(generator=train_generator, steps_per_epoch=STEP_SIZE_TRAIN,\n",
    "                              validation_data=validation_generator, validation_steps=STEP_SIZE_VALID,\n",
    "                              epochs=n_epoch,\n",
    "                              shuffle=True,\n",
    "                              verbose=1,\n",
    "                              callbacks=[reduce_lr],\n",
    "                              class_weight=class_weights\n",
    "                             )"
   ]
  },
  {
   "cell_type": "code",
   "execution_count": null,
   "id": "R7nRyCsY5x0N",
   "metadata": {
    "colab": {
     "base_uri": "https://localhost:8080/"
    },
    "id": "R7nRyCsY5x0N",
    "outputId": "3afab6b2-38a0-4a89-fa92-b784f2ecade1"
   },
   "outputs": [],
   "source": [
    "# Merge history1 and history2\n",
    "history = {}\n",
    "history['loss'] = history1.history['loss']\n",
    "history['accuracy'] = history1.history['accuracy']\n",
    "history['val_loss'] = history1.history['val_loss']\n",
    "history['val_accuracy'] = history1.history['val_accuracy'] \n",
    "history['lr'] = history1.history['lr']"
   ]
  },
  {
   "cell_type": "code",
   "execution_count": null,
   "id": "fdedb986-cd28-4ac3-b1f9-13037d564d7b",
   "metadata": {},
   "outputs": [],
   "source": [
    "# Plot the training graph\n",
    "def plot_training(history):\n",
    "    acc = history['accuracy']\n",
    "    val_acc = history['val_accuracy']\n",
    "    loss = history['loss']\n",
    "    val_loss = history['val_loss']\n",
    "    epochs = range(len(acc))\n",
    "\n",
    "    fig, axes = plt.subplots(1, 2, figsize=(15,5))\n",
    "    \n",
    "    axes[0].plot(epochs, acc, 'r-', label='Training Accuracy')\n",
    "    axes[0].plot(epochs, val_acc, 'b--', label='Validation Accuracy')\n",
    "    axes[0].set_title('Training and Validation Accuracy')\n",
    "    axes[0].legend(loc='best')\n",
    "\n",
    "    axes[1].plot(epochs, loss, 'r-', label='Training Loss')\n",
    "    axes[1].plot(epochs, val_loss, 'b--', label='Validation Loss')\n",
    "    axes[1].set_title('Training and Validation Loss')\n",
    "    axes[1].legend(loc='best')\n",
    "    \n",
    "    plt.show()\n",
    "    \n",
    "plot_training(history)"
   ]
  },
  {
   "cell_type": "code",
   "execution_count": null,
   "id": "65067b7e-2ec4-4f98-9977-3028e4a23120",
   "metadata": {},
   "outputs": [],
   "source": [
    "# Prediction accuracy on train data\n",
    "score = model.evaluate_generator(train_generator, verbose=1)\n",
    "print(\"Prediction accuracy on train data =\", score[1])"
   ]
  },
  {
   "cell_type": "code",
   "execution_count": null,
   "id": "722136c9-011e-4e34-b9f6-f823db92499a",
   "metadata": {},
   "outputs": [],
   "source": [
    "# Prediction accuracy on CV data\n",
    "score = model.evaluate_generator(validation_generator, verbose=1)\n",
    "print(\"Prediction accuracy on CV data =\", score[1])"
   ]
  },
  {
   "cell_type": "code",
   "execution_count": null,
   "id": "206b50a5-50e1-4f75-a16a-c1f093cccc94",
   "metadata": {},
   "outputs": [],
   "source": [
    "# Classification report and confusion matrix\n",
    "from sklearn.metrics import *\n",
    "import seaborn as sns\n",
    "\n",
    "tick_labels = artists_top_name.tolist()\n",
    "\n",
    "def showClassficationReport_Generator(model, valid_generator, STEP_SIZE_VALID):\n",
    "    # Loop on each generator batch and predict\n",
    "    y_pred, y_true = [], []\n",
    "    for i in range(STEP_SIZE_VALID):\n",
    "        (X,y) = next(valid_generator)\n",
    "        y_pred.append(model.predict(X))\n",
    "        y_true.append(y)\n",
    "    \n",
    "    # Create a flat list for y_true and y_pred\n",
    "    y_pred = [subresult for result in y_pred for subresult in result]\n",
    "    y_true = [subresult for result in y_true for subresult in result]\n",
    "    \n",
    "    # Update Truth vector based on argmax\n",
    "    y_true = np.argmax(y_true, axis=1)\n",
    "    y_true = np.asarray(y_true).ravel()\n",
    "    \n",
    "    # Update Prediction vector based on argmax\n",
    "    y_pred = np.argmax(y_pred, axis=1)\n",
    "    y_pred = np.asarray(y_pred).ravel()\n",
    "    \n",
    "    # Confusion Matrix\n",
    "    fig, ax = plt.subplots(figsize=(10,10))\n",
    "    conf_matrix = confusion_matrix(y_true, y_pred, labels=np.arange(n_classes))\n",
    "    conf_matrix = conf_matrix/np.sum(conf_matrix, axis=1)\n",
    "    sns.heatmap(conf_matrix, annot=True, fmt=\".2f\", square=True, cbar=False, \n",
    "                cmap=plt.cm.jet, xticklabels=tick_labels, yticklabels=tick_labels,\n",
    "                ax=ax)\n",
    "    ax.set_ylabel('Actual')\n",
    "    ax.set_xlabel('Predicted')\n",
    "    ax.set_title('Confusion Matrix')\n",
    "    plt.show()\n",
    "    \n",
    "    print('Classification Report:')\n",
    "    print(classification_report(y_true, y_pred, labels=np.arange(n_classes), target_names=artists_top_name.tolist()))\n",
    "\n",
    "showClassficationReport_Generator(model, validation_generator, STEP_SIZE_VALID)"
   ]
  },
  {
   "cell_type": "code",
   "execution_count": null,
   "id": "348e3625-75ab-4557-925d-fc47b1040182",
   "metadata": {},
   "outputs": [],
   "source": [
    "from keras.preprocessing.image import img_to_array, array_to_img\n",
    "from keras.preprocessing import image"
   ]
  },
  {
   "cell_type": "code",
   "execution_count": null,
   "id": "c3cd5098-2b9d-4e41-9fb5-f88432641ee8",
   "metadata": {},
   "outputs": [],
   "source": [
    "# Predict from web - this is an image of Titian.\n",
    "# Replace 'url' with any image of one of the 11 artists above and run this cell.\n",
    "url = 'https://www.gpsmycity.com/img/gd/2081.jpg'\n",
    "\n",
    "import imageio\n",
    "import cv2\n",
    "\n",
    "web_image = imageio.imread(url)\n",
    "web_image = cv2.resize(web_image, dsize=train_input_shape[0:2], )\n",
    "web_image = image.img_to_array(web_image)\n",
    "web_image /= 255.\n",
    "web_image = np.expand_dims(web_image, axis=0)\n",
    "\n",
    "labels = train_generator.class_indices\n",
    "labels = dict((v,k) for k,v in labels.items())\n",
    "prediction = model.predict(web_image)\n",
    "prediction_probability = np.amax(prediction)\n",
    "prediction_idx = np.argmax(prediction)\n",
    "\n",
    "print(\"Predicted artist =\", labels[prediction_idx].replace('_', ' '))\n",
    "print(\"Prediction probability =\", prediction_probability*100, \"%\")\n",
    "\n",
    "plt.imshow(imageio.imread(url))\n",
    "plt.axis('off')\n",
    "plt.show()"
   ]
  },
  {
   "cell_type": "code",
   "execution_count": null,
   "id": "74947ec1-f3ae-460f-87e5-6fb789ef32a4",
   "metadata": {},
   "outputs": [],
   "source": []
  },
  {
   "cell_type": "markdown",
   "id": "ec23aa08-b6e1-4e58-b858-0ad27d85097e",
   "metadata": {
    "id": "ec23aa08-b6e1-4e58-b858-0ad27d85097e"
   },
   "source": [
    "# Data Visualization"
   ]
  },
  {
   "cell_type": "code",
   "execution_count": null,
   "id": "1b2cd953-5e76-48d1-aade-dab26d3a938c",
   "metadata": {
    "id": "1b2cd953-5e76-48d1-aade-dab26d3a938c"
   },
   "outputs": [],
   "source": [
    "plt.figure(figsize=(18,5))\n",
    "\n",
    "sns.barplot(x=artist_df['nationality'].value_counts().index,y=artist_df['nationality'].value_counts().values)\n",
    "plt.title('nationality')\n",
    "plt.xticks(rotation=75)\n",
    "plt.ylabel('Rates')\n",
    "plt.legend(loc=0)\n",
    "plt.show()"
   ]
  },
  {
   "cell_type": "code",
   "execution_count": null,
   "id": "25d3e0cc-0c6f-498e-974a-d5dc5e6f310c",
   "metadata": {
    "id": "25d3e0cc-0c6f-498e-974a-d5dc5e6f310c"
   },
   "outputs": [],
   "source": [
    "plt.figure(figsize=(18,5))\n",
    "sns.barplot(x=artist_df['genre'].value_counts().index,\n",
    "              y=artist_df['genre'].value_counts().values)\n",
    "plt.xlabel('genre')\n",
    "plt.xticks(rotation=75)\n",
    "plt.ylabel('Frequency')\n",
    "plt.title('Show of genre Bar Plot')\n",
    "plt.show()"
   ]
  },
  {
   "cell_type": "code",
   "execution_count": null,
   "id": "7db9c52a-816a-4d99-9c72-3f11c33716c0",
   "metadata": {
    "id": "7db9c52a-816a-4d99-9c72-3f11c33716c0"
   },
   "outputs": [],
   "source": [
    "fig, axes = plt.subplots(1, 5, figsize=(20,10))\n",
    "\n",
    "for i in range(5):\n",
    "    random_image = random.choice(os.listdir(os.path.join(images_dir)))\n",
    "    random_image_file = os.path.join(images_dir, random_image)\n",
    "    image = plt.imread(random_image_file)\n",
    "    axes[i].imshow(image)\n",
    "    axes[i].set_title(\"Image: \" + random_image)\n",
    "    axes[i].axis('off')\n",
    "\n",
    "plt.show()"
   ]
  },
  {
   "cell_type": "markdown",
   "id": "c805af2f-b591-47bf-b2e2-71460e508fe6",
   "metadata": {
    "id": "c805af2f-b591-47bf-b2e2-71460e508fe6"
   },
   "source": [
    "# Train and Test Split"
   ]
  },
  {
   "cell_type": "code",
   "execution_count": null,
   "id": "167b77bc-9dab-4452-a612-9407dae6fe23",
   "metadata": {
    "id": "167b77bc-9dab-4452-a612-9407dae6fe23"
   },
   "outputs": [],
   "source": [
    "# Create a DataFrame to store filename and artist mapping\n",
    "file_artist_mapping = []\n",
    "\n",
    "for filename in os.listdir(images_dir):\n",
    "    if filename.endswith(('.png', '.jpg', '.jpeg')):\n",
    "        artist_name = \" \".join(filename.split(\"_\")[:-1])\n",
    "        file_artist_mapping.append({'filename': filename, 'artist': artist_name})\n",
    "\n",
    "df = pd.DataFrame(file_artist_mapping)\n",
    "\n",
    "# Remove rows where the artist is 'Albrecht Du╠êrer'\n",
    "df = df[df['artist'] != 'Albrecht Du╠êrer']\n",
    "\n",
    "# Get unique artist names\n",
    "artists = df['artist'].unique()\n",
    "n_classes = len(artists)\n",
    "\n",
    "# Define image size and other parameters\n",
    "img_size = (128, 128)\n",
    "batch_size = 32\n",
    "\n",
    "# Create data generators\n",
    "datagen = ImageDataGenerator(rescale=1./255, validation_split=0.2)\n",
    "\n",
    "train_generator = datagen.flow_from_dataframe(\n",
    "    dataframe=df,\n",
    "    directory=images_dir,\n",
    "    x_col='filename',\n",
    "    y_col='artist',\n",
    "    target_size=img_size,\n",
    "    batch_size=batch_size,\n",
    "    class_mode='categorical',\n",
    "    subset='training'\n",
    ")\n",
    "\n",
    "validation_generator = datagen.flow_from_dataframe(\n",
    "    dataframe=df,\n",
    "    directory=images_dir,\n",
    "    x_col='filename',\n",
    "    y_col='artist',\n",
    "    target_size=img_size,\n",
    "    batch_size=batch_size,\n",
    "    class_mode='categorical',\n",
    "    subset='validation'\n",
    ")"
   ]
  },
  {
   "cell_type": "code",
   "execution_count": null,
   "id": "a0d34da9-e1ca-4519-bfc4-772b38c2aede",
   "metadata": {
    "id": "a0d34da9-e1ca-4519-bfc4-772b38c2aede"
   },
   "outputs": [],
   "source": []
  },
  {
   "cell_type": "markdown",
   "id": "378780c9-8cb0-4acc-8df0-8543f2c67d34",
   "metadata": {
    "id": "378780c9-8cb0-4acc-8df0-8543f2c67d34"
   },
   "source": [
    "# Simple CNN Model"
   ]
  },
  {
   "cell_type": "code",
   "execution_count": null,
   "id": "c92c6270-b096-492c-a4b5-5d49aa385661",
   "metadata": {
    "id": "c92c6270-b096-492c-a4b5-5d49aa385661"
   },
   "outputs": [],
   "source": [
    "def simple_cnn():\n",
    "\n",
    "    # Build a simple CNN model\n",
    "    model = models.Sequential()\n",
    "    model.add(layers.Conv2D(32, (3, 3), activation='relu', input_shape=(img_size[0], img_size[1], 3)))\n",
    "    model.add(layers.MaxPooling2D((2, 2)))\n",
    "    model.add(layers.Conv2D(64, (3, 3), activation='relu'))\n",
    "    model.add(layers.MaxPooling2D((2, 2)))\n",
    "    model.add(layers.Conv2D(128, (3, 3), activation='relu'))\n",
    "    model.add(layers.MaxPooling2D((2, 2)))\n",
    "    model.add(layers.Flatten())\n",
    "    model.add(layers.Dense(128, activation='relu'))\n",
    "    model.add(layers.Dropout(0.5))\n",
    "    model.add(layers.Dense(n_classes, activation='softmax'))\n",
    "\n",
    "    return model"
   ]
  },
  {
   "cell_type": "code",
   "execution_count": null,
   "id": "fe80072c-5de0-413a-977d-bbaaff946d64",
   "metadata": {
    "id": "fe80072c-5de0-413a-977d-bbaaff946d64"
   },
   "outputs": [],
   "source": [
    "#Initialize model\n",
    "model= simple_cnn()\n",
    "\n",
    "# Compile the model\n",
    "model.compile(optimizer='adam', loss='categorical_crossentropy', metrics=['accuracy'])\n",
    "\n",
    "# Train the model\n",
    "history = model.fit(\n",
    "    train_generator,\n",
    "    epochs=20,\n",
    "    validation_data=validation_generator\n",
    ")"
   ]
  },
  {
   "cell_type": "code",
   "execution_count": null,
   "id": "23770fd5-80aa-4d86-8979-fa90d6b5b174",
   "metadata": {
    "id": "23770fd5-80aa-4d86-8979-fa90d6b5b174"
   },
   "outputs": [],
   "source": [
    "# Prediction accuracy on train data\n",
    "score = model.evaluate_generator(train_generator, verbose=1)\n",
    "print(\"Prediction accuracy on train data =\", score[1])"
   ]
  },
  {
   "cell_type": "code",
   "execution_count": null,
   "id": "54320f6a-4e73-4e7f-aea9-7c77aa705f40",
   "metadata": {
    "id": "54320f6a-4e73-4e7f-aea9-7c77aa705f40"
   },
   "outputs": [],
   "source": [
    "# Prediction accuracy on CV data\n",
    "score = model.evaluate_generator(validation_generator, verbose=1)\n",
    "print(\"Prediction accuracy on CV data =\", score[1])"
   ]
  },
  {
   "cell_type": "markdown",
   "id": "b26ccb2a-c864-4978-b85f-67f08fd67333",
   "metadata": {
    "id": "b26ccb2a-c864-4978-b85f-67f08fd67333"
   },
   "source": [
    "# Data Augmentation"
   ]
  },
  {
   "cell_type": "code",
   "execution_count": null,
   "id": "3bfdb376-0176-4def-be56-387a570c7401",
   "metadata": {
    "id": "3bfdb376-0176-4def-be56-387a570c7401"
   },
   "outputs": [],
   "source": [
    "# Create a data generator with data augmentation\n",
    "datagen = ImageDataGenerator(\n",
    "    rescale=1./255,\n",
    "    shear_range=0.2,\n",
    "    zoom_range=0.2,\n",
    "    horizontal_flip=True,\n",
    "    validation_split=0.2\n",
    ")\n",
    "\n",
    "train_generator = datagen.flow_from_dataframe(\n",
    "    dataframe=df,\n",
    "    directory=images_dir,\n",
    "    x_col='filename',\n",
    "    y_col='artist',\n",
    "    target_size=img_size,\n",
    "    batch_size=batch_size,\n",
    "    class_mode='categorical',\n",
    "    subset='training'\n",
    ")\n",
    "\n",
    "validation_generator = datagen.flow_from_dataframe(\n",
    "    dataframe=df,\n",
    "    directory=images_dir,\n",
    "    x_col='filename',\n",
    "    y_col='artist',\n",
    "    target_size=img_size,\n",
    "    batch_size=batch_size,\n",
    "    class_mode='categorical',\n",
    "    subset='validation'\n",
    ")"
   ]
  },
  {
   "cell_type": "code",
   "execution_count": null,
   "id": "8ba33eca-e7dd-4915-a51e-ab68e6cce576",
   "metadata": {
    "id": "8ba33eca-e7dd-4915-a51e-ab68e6cce576"
   },
   "outputs": [],
   "source": [
    "model= simple_cnn()\n",
    "\n",
    "# Compile the model\n",
    "model.compile(optimizer='adam', loss='categorical_crossentropy', metrics=['accuracy'])\n",
    "\n",
    "# Train the model\n",
    "history = model.fit(\n",
    "    train_generator,\n",
    "    epochs=20,\n",
    "    validation_data=validation_generator\n",
    ")"
   ]
  },
  {
   "cell_type": "code",
   "execution_count": null,
   "id": "8e49c0b5-fcf2-4d40-9313-41998ccfaa42",
   "metadata": {
    "id": "8e49c0b5-fcf2-4d40-9313-41998ccfaa42"
   },
   "outputs": [],
   "source": [
    "# Prediction accuracy on train data\n",
    "score = model.evaluate_generator(train_generator, verbose=1)\n",
    "print(\"Prediction accuracy on train data =\", score[1])"
   ]
  },
  {
   "cell_type": "code",
   "execution_count": null,
   "id": "0bd1885b-3277-4f26-ab99-f0c04833c626",
   "metadata": {
    "id": "0bd1885b-3277-4f26-ab99-f0c04833c626"
   },
   "outputs": [],
   "source": [
    "# Prediction accuracy on CV data\n",
    "score = model.evaluate_generator(validation_generator, verbose=1)\n",
    "print(\"Prediction accuracy on CV data =\", score[1])"
   ]
  },
  {
   "cell_type": "code",
   "execution_count": null,
   "id": "5d29d946-3e23-4412-9346-fb140fb46ebd",
   "metadata": {
    "id": "5d29d946-3e23-4412-9346-fb140fb46ebd"
   },
   "outputs": [],
   "source": []
  }
 ],
 "metadata": {
  "accelerator": "GPU",
  "colab": {
   "gpuType": "V100",
   "machine_shape": "hm",
   "provenance": []
  },
  "kernelspec": {
   "display_name": "Python 3 (ipykernel)",
   "language": "python",
   "name": "python3"
  },
  "language_info": {
   "codemirror_mode": {
    "name": "ipython",
    "version": 3
   },
   "file_extension": ".py",
   "mimetype": "text/x-python",
   "name": "python",
   "nbconvert_exporter": "python",
   "pygments_lexer": "ipython3",
   "version": "3.11.5"
  }
 },
 "nbformat": 4,
 "nbformat_minor": 5
}
